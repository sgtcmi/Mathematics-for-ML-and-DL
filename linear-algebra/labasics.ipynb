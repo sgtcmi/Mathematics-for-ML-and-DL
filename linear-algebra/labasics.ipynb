{
 "cells": [
  {
   "cell_type": "markdown",
   "id": "b71b1836-6bfe-4b3a-a4ce-4d9b4629a00d",
   "metadata": {},
   "source": [
    "## Starting Points\n",
    "   - Matrix vector multiplication \n",
    "   - System of linear equation "
   ]
  },
  {
   "cell_type": "code",
   "execution_count": null,
   "id": "eebf6b49-bb78-4756-9fa0-b038099ffb61",
   "metadata": {},
   "outputs": [],
   "source": []
  }
 ],
 "metadata": {
  "kernelspec": {
   "display_name": "Python 3 (ipykernel)",
   "language": "python",
   "name": "python3"
  },
  "language_info": {
   "codemirror_mode": {
    "name": "ipython",
    "version": 3
   },
   "file_extension": ".py",
   "mimetype": "text/x-python",
   "name": "python",
   "nbconvert_exporter": "python",
   "pygments_lexer": "ipython3",
   "version": "3.12.3"
  }
 },
 "nbformat": 4,
 "nbformat_minor": 5
}
